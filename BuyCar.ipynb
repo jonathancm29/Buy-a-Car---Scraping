{
 "cells": [
  {
   "cell_type": "code",
   "execution_count": 3,
   "metadata": {},
   "outputs": [
    {
     "name": "stdout",
     "output_type": "stream",
     "text": [
      "Vamos a Crear un notebook para la compra de un carro!\n"
     ]
    }
   ],
   "source": [
    "print('Vamos a Crear un notebook para la compra de un carro!');"
   ]
  },
  {
   "cell_type": "code",
   "execution_count": 4,
   "metadata": {},
   "outputs": [],
   "source": [
    "import requests\n",
    "import csv\n",
    "import bs4\n",
    "import pandas as pd"
   ]
  },
  {
   "cell_type": "code",
   "execution_count": 5,
   "metadata": {},
   "outputs": [],
   "source": [
    "searchTextCar = \"clio\"\n",
    "searchTextCar = (searchTextCar.replace(' ','-'))"
   ]
  },
  {
   "cell_type": "code",
   "execution_count": 6,
   "metadata": {},
   "outputs": [],
   "source": [
    "r = requests.get('https://carros.mercadolibre.com.co/renault/mecanica/valle-del-cauca/'+searchTextCar)"
   ]
  },
  {
   "cell_type": "code",
   "execution_count": 7,
   "metadata": {},
   "outputs": [],
   "source": [
    "soup = bs4.BeautifulSoup(r.text, 'html.parser')"
   ]
  },
  {
   "cell_type": "code",
   "execution_count": 8,
   "metadata": {},
   "outputs": [],
   "source": [
    "with open('buyCard.csv', mode='w+') as csvfile:\n",
    "    writer = csv.writer(csvfile)\n",
    "    writer.writerow(['name','modelo', 'link', 'price', 'km', 'ciudad'])\n",
    "    sections = soup.select('.ui-search-results ol')\n",
    "    articles = []\n",
    "    for section in sections:\n",
    "        for article in section.children:\n",
    "            name = article.select('.ui-search-item__title')[0].text\n",
    "            link = (article.a['href'])\n",
    "            price = article.select('.price-tag-fraction')[0].text\n",
    "            modelo = (article.select('.ui-search-card-attributes__attribute')[0].text)\n",
    "            km = (article.select('.ui-search-card-attributes__attribute')[1].text)\n",
    "            ciudad = (article.select('.ui-search-item__location')[0].text)\n",
    "            writer.writerow([name, modelo, link, price, km, ciudad])\n",
    "    "
   ]
  },
  {
   "cell_type": "code",
   "execution_count": 9,
   "metadata": {},
   "outputs": [
    {
     "data": {
      "text/html": [
       "<div>\n",
       "<style scoped>\n",
       "    .dataframe tbody tr th:only-of-type {\n",
       "        vertical-align: middle;\n",
       "    }\n",
       "\n",
       "    .dataframe tbody tr th {\n",
       "        vertical-align: top;\n",
       "    }\n",
       "\n",
       "    .dataframe thead th {\n",
       "        text-align: right;\n",
       "    }\n",
       "</style>\n",
       "<table border=\"1\" class=\"dataframe\">\n",
       "  <thead>\n",
       "    <tr style=\"text-align: right;\">\n",
       "      <th></th>\n",
       "      <th>name</th>\n",
       "      <th>modelo</th>\n",
       "      <th>link</th>\n",
       "      <th>price</th>\n",
       "      <th>km</th>\n",
       "      <th>ciudad</th>\n",
       "    </tr>\n",
       "  </thead>\n",
       "  <tbody>\n",
       "    <tr>\n",
       "      <th>10</th>\n",
       "      <td>Renault Clio 1.4 Rxt</td>\n",
       "      <td>2003</td>\n",
       "      <td>https://carro.mercadolibre.com.co/MCO-61204511...</td>\n",
       "      <td>12.000.000</td>\n",
       "      <td>157.980 Km</td>\n",
       "      <td>Florida</td>\n",
       "    </tr>\n",
       "    <tr>\n",
       "      <th>5</th>\n",
       "      <td>Renault Clio 1.4 Mtv</td>\n",
       "      <td>2003</td>\n",
       "      <td>https://carro.mercadolibre.com.co/MCO-61080152...</td>\n",
       "      <td>12.500.000</td>\n",
       "      <td>228.587 Km</td>\n",
       "      <td>Jamundí</td>\n",
       "    </tr>\n",
       "    <tr>\n",
       "      <th>4</th>\n",
       "      <td>Renault Clio F.iv Team Cool</td>\n",
       "      <td>2008</td>\n",
       "      <td>https://carro.mercadolibre.com.co/MCO-60984477...</td>\n",
       "      <td>15.500.000</td>\n",
       "      <td>118.000 Km</td>\n",
       "      <td>Sevilla</td>\n",
       "    </tr>\n",
       "    <tr>\n",
       "      <th>7</th>\n",
       "      <td>Renault Clio F.ii Dynamique</td>\n",
       "      <td>2007</td>\n",
       "      <td>https://carro.mercadolibre.com.co/MCO-61071581...</td>\n",
       "      <td>16.000.000</td>\n",
       "      <td>140.600 Km</td>\n",
       "      <td>Cali</td>\n",
       "    </tr>\n",
       "    <tr>\n",
       "      <th>15</th>\n",
       "      <td>Renault Clio 1.2 Campus</td>\n",
       "      <td>2013</td>\n",
       "      <td>https://carro.mercadolibre.com.co/MCO-60876217...</td>\n",
       "      <td>17.500.000</td>\n",
       "      <td>130.000 Km</td>\n",
       "      <td>Cali</td>\n",
       "    </tr>\n",
       "    <tr>\n",
       "      <th>0</th>\n",
       "      <td>Renault Clio 2013</td>\n",
       "      <td>2013</td>\n",
       "      <td>https://carro.mercadolibre.com.co/MCO-61287652...</td>\n",
       "      <td>20.000.000</td>\n",
       "      <td>93.000 Km</td>\n",
       "      <td>Cartago</td>\n",
       "    </tr>\n",
       "    <tr>\n",
       "      <th>12</th>\n",
       "      <td>Renault Clio 1.2 Style Ca</td>\n",
       "      <td>2016</td>\n",
       "      <td>https://carro.mercadolibre.com.co/MCO-61308140...</td>\n",
       "      <td>22.500.000</td>\n",
       "      <td>43.000 Km</td>\n",
       "      <td>Cali</td>\n",
       "    </tr>\n",
       "    <tr>\n",
       "      <th>3</th>\n",
       "      <td>Renault Clio 1.2 Campus</td>\n",
       "      <td>2015</td>\n",
       "      <td>https://carro.mercadolibre.com.co/MCO-60686532...</td>\n",
       "      <td>22.900.000</td>\n",
       "      <td>65.000 Km</td>\n",
       "      <td>Cali</td>\n",
       "    </tr>\n",
       "    <tr>\n",
       "      <th>13</th>\n",
       "      <td>Renault Clio 1.2 Style Ca</td>\n",
       "      <td>2016</td>\n",
       "      <td>https://carro.mercadolibre.com.co/MCO-61124674...</td>\n",
       "      <td>23.000.000</td>\n",
       "      <td>56.000 Km</td>\n",
       "      <td>Cali</td>\n",
       "    </tr>\n",
       "    <tr>\n",
       "      <th>9</th>\n",
       "      <td>Renault Clio 1.2 Sport Style</td>\n",
       "      <td>2016</td>\n",
       "      <td>https://carro.mercadolibre.com.co/MCO-61317457...</td>\n",
       "      <td>24.000.000</td>\n",
       "      <td>90.000 Km</td>\n",
       "      <td>Zarzal</td>\n",
       "    </tr>\n",
       "    <tr>\n",
       "      <th>8</th>\n",
       "      <td>Renault Clio 1.2 Style Ca</td>\n",
       "      <td>2016</td>\n",
       "      <td>https://carro.mercadolibre.com.co/MCO-61112629...</td>\n",
       "      <td>24.500.000</td>\n",
       "      <td>40.000 Km</td>\n",
       "      <td>Cali</td>\n",
       "    </tr>\n",
       "    <tr>\n",
       "      <th>2</th>\n",
       "      <td>Renault Clio 1.2 Campus</td>\n",
       "      <td>2015</td>\n",
       "      <td>https://carro.mercadolibre.com.co/MCO-61233457...</td>\n",
       "      <td>24.800.000</td>\n",
       "      <td>59.600 Km</td>\n",
       "      <td>Cali</td>\n",
       "    </tr>\n",
       "    <tr>\n",
       "      <th>6</th>\n",
       "      <td>Renault Clio 1.2 Style Ca</td>\n",
       "      <td>2016</td>\n",
       "      <td>https://carro.mercadolibre.com.co/MCO-61178857...</td>\n",
       "      <td>24.999.000</td>\n",
       "      <td>27.000 Km</td>\n",
       "      <td>Cali</td>\n",
       "    </tr>\n",
       "    <tr>\n",
       "      <th>1</th>\n",
       "      <td>Renault Clio 1.2 Style U</td>\n",
       "      <td>2016</td>\n",
       "      <td>https://carro.mercadolibre.com.co/MCO-61179204...</td>\n",
       "      <td>25.500.000</td>\n",
       "      <td>74.000 Km</td>\n",
       "      <td>Cali</td>\n",
       "    </tr>\n",
       "    <tr>\n",
       "      <th>14</th>\n",
       "      <td>Renault Clio 1.2 Style Ca</td>\n",
       "      <td>2017</td>\n",
       "      <td>https://carro.mercadolibre.com.co/MCO-60898450...</td>\n",
       "      <td>26.000.000</td>\n",
       "      <td>40.000 Km</td>\n",
       "      <td>Cartago</td>\n",
       "    </tr>\n",
       "    <tr>\n",
       "      <th>11</th>\n",
       "      <td>Renault Clio 1.4 Rt</td>\n",
       "      <td>2000</td>\n",
       "      <td>https://carro.mercadolibre.com.co/MCO-61060979...</td>\n",
       "      <td>9.000.000</td>\n",
       "      <td>288.467 Km</td>\n",
       "      <td>Zarzal</td>\n",
       "    </tr>\n",
       "  </tbody>\n",
       "</table>\n",
       "</div>"
      ],
      "text/plain": [
       "                            name  modelo  \\\n",
       "10          Renault Clio 1.4 Rxt    2003   \n",
       "5           Renault Clio 1.4 Mtv    2003   \n",
       "4    Renault Clio F.iv Team Cool    2008   \n",
       "7    Renault Clio F.ii Dynamique    2007   \n",
       "15       Renault Clio 1.2 Campus    2013   \n",
       "0              Renault Clio 2013    2013   \n",
       "12     Renault Clio 1.2 Style Ca    2016   \n",
       "3        Renault Clio 1.2 Campus    2015   \n",
       "13     Renault Clio 1.2 Style Ca    2016   \n",
       "9   Renault Clio 1.2 Sport Style    2016   \n",
       "8      Renault Clio 1.2 Style Ca    2016   \n",
       "2        Renault Clio 1.2 Campus    2015   \n",
       "6      Renault Clio 1.2 Style Ca    2016   \n",
       "1       Renault Clio 1.2 Style U    2016   \n",
       "14     Renault Clio 1.2 Style Ca    2017   \n",
       "11           Renault Clio 1.4 Rt    2000   \n",
       "\n",
       "                                                 link       price          km  \\\n",
       "10  https://carro.mercadolibre.com.co/MCO-61204511...  12.000.000  157.980 Km   \n",
       "5   https://carro.mercadolibre.com.co/MCO-61080152...  12.500.000  228.587 Km   \n",
       "4   https://carro.mercadolibre.com.co/MCO-60984477...  15.500.000  118.000 Km   \n",
       "7   https://carro.mercadolibre.com.co/MCO-61071581...  16.000.000  140.600 Km   \n",
       "15  https://carro.mercadolibre.com.co/MCO-60876217...  17.500.000  130.000 Km   \n",
       "0   https://carro.mercadolibre.com.co/MCO-61287652...  20.000.000   93.000 Km   \n",
       "12  https://carro.mercadolibre.com.co/MCO-61308140...  22.500.000   43.000 Km   \n",
       "3   https://carro.mercadolibre.com.co/MCO-60686532...  22.900.000   65.000 Km   \n",
       "13  https://carro.mercadolibre.com.co/MCO-61124674...  23.000.000   56.000 Km   \n",
       "9   https://carro.mercadolibre.com.co/MCO-61317457...  24.000.000   90.000 Km   \n",
       "8   https://carro.mercadolibre.com.co/MCO-61112629...  24.500.000   40.000 Km   \n",
       "2   https://carro.mercadolibre.com.co/MCO-61233457...  24.800.000   59.600 Km   \n",
       "6   https://carro.mercadolibre.com.co/MCO-61178857...  24.999.000   27.000 Km   \n",
       "1   https://carro.mercadolibre.com.co/MCO-61179204...  25.500.000   74.000 Km   \n",
       "14  https://carro.mercadolibre.com.co/MCO-60898450...  26.000.000   40.000 Km   \n",
       "11  https://carro.mercadolibre.com.co/MCO-61060979...   9.000.000  288.467 Km   \n",
       "\n",
       "     ciudad  \n",
       "10  Florida  \n",
       "5   Jamundí  \n",
       "4   Sevilla  \n",
       "7      Cali  \n",
       "15     Cali  \n",
       "0   Cartago  \n",
       "12     Cali  \n",
       "3      Cali  \n",
       "13     Cali  \n",
       "9    Zarzal  \n",
       "8      Cali  \n",
       "2      Cali  \n",
       "6      Cali  \n",
       "1      Cali  \n",
       "14  Cartago  \n",
       "11   Zarzal  "
      ]
     },
     "execution_count": 9,
     "metadata": {},
     "output_type": "execute_result"
    }
   ],
   "source": [
    "listado = pd.read_csv('buyCard.csv',  encoding = 'ISO-8859-1')\n",
    "# listado.head()\n",
    "# listado.loc[5]['link']\n",
    "# listado['modelo'].value_counts()\n",
    "# listado.sort_values(by=['price']).loc[47]['link']\n",
    "listado.sort_values(by=['price'])"
   ]
  },
  {
   "cell_type": "code",
   "execution_count": 10,
   "metadata": {},
   "outputs": [
    {
     "data": {
      "text/plain": [
       "'https://carro.mercadolibre.com.co/MCO-611788572-renault-clio-2016-12-style-ca-_JM#position=7&type=item&tracking_id=9f1125a0-94f4-4efa-aa4f-f0e5f23b1c40'"
      ]
     },
     "execution_count": 10,
     "metadata": {},
     "output_type": "execute_result"
    }
   ],
   "source": [
    "listado.sort_values(by=['price']).loc[6]['link']"
   ]
  },
  {
   "cell_type": "code",
   "execution_count": 11,
   "metadata": {},
   "outputs": [],
   "source": [
    "%matplotlib inline"
   ]
  },
  {
   "cell_type": "code",
   "execution_count": 12,
   "metadata": {},
   "outputs": [
    {
     "data": {
      "text/plain": [
       "<matplotlib.axes._subplots.AxesSubplot at 0x2131ba5c8d0>"
      ]
     },
     "execution_count": 12,
     "metadata": {},
     "output_type": "execute_result"
    },
    {
     "data": {
      "image/png": "[encoded data removed]",
      "text/plain": [
       "<Figure size 432x288 with 1 Axes>"
      ]
     },
     "metadata": {},
     "output_type": "display_data"
    }
   ],
   "source": [
    "listado['modelo'].plot(style='k.')"
   ]
  },
  {
   "cell_type": "code",
   "execution_count": 14,
   "metadata": {},
   "outputs": [
    {
     "data": {
      "text/plain": [
       "ciudad  count     2.000\n",
       "        unique    1.375\n",
       "        freq      1.625\n",
       "km      count     2.000\n",
       "        unique    2.000\n",
       "        freq      1.000\n",
       "link    count     2.000\n",
       "        unique    2.000\n",
       "        freq      1.000\n",
       "name    count     2.000\n",
       "        unique    1.500\n",
       "        freq      1.500\n",
       "price   count     2.000\n",
       "        unique    2.000\n",
       "        freq      1.000\n",
       "dtype: float64"
      ]
     },
     "execution_count": 14,
     "metadata": {},
     "output_type": "execute_result"
    }
   ],
   "source": [
    "grouped = listado.groupby('modelo')\n",
    "grouped.describe().mean()\n",
    "# grouped.mean()"
   ]
  },
  {
   "cell_type": "code",
   "execution_count": null,
   "metadata": {},
   "outputs": [],
   "source": []
  },
  {
   "cell_type": "code",
   "execution_count": null,
   "metadata": {},
   "outputs": [],
   "source": []
  },
  {
   "cell_type": "code",
   "execution_count": null,
   "metadata": {},
   "outputs": [],
   "source": []
  }
 ],
 "metadata": {
  "kernelspec": {
   "display_name": "Python 3.6.5 64-bit",
   "language": "python",
   "name": "python36564bit5d3c9c56d50e440b97c3e781cb9e539b"
  },
  "language_info": {
   "codemirror_mode": {
    "name": "ipython",
    "version": 3
   },
   "file_extension": ".py",
   "mimetype": "text/x-python",
   "name": "python",
   "nbconvert_exporter": "python",
   "pygments_lexer": "ipython3",
   "version": "3.6.5"
  }
 },
 "nbformat": 4,
 "nbformat_minor": 2
}
